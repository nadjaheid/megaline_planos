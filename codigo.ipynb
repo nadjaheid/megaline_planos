{
 "cells": [
  {
   "cell_type": "markdown",
   "metadata": {},
   "source": [
    "Projeto Megaline: Sugestão de Planos"
   ]
  },
  {
   "cell_type": "markdown",
   "metadata": {},
   "source": [
    "A operadora de celular Megaline está insatisfeita com o fato de muitos de seus clientes estarem usando planos antigos. Ela quer desenvolver um modelo que possa analisar o comportamento do cliente e recomendar um dos planos mais recentes da Megaline: Smart ou Ultra.\n",
    "\n",
    "Neste projeto, será desenvolvido um modelo que escolhe o plano certo de acordo com o comportamento do cliente."
   ]
  },
  {
   "cell_type": "markdown",
   "metadata": {},
   "source": [
    "1  Importação e descrição dos dados¶"
   ]
  },
  {
   "cell_type": "code",
   "execution_count": null,
   "metadata": {},
   "outputs": [],
   "source": [
    "import pandas as pd\n",
    "from sklearn.model_selection import train_test_split\n",
    "from sklearn.tree import DecisionTreeClassifier\n",
    "from sklearn.ensemble import RandomForestClassifier\n",
    "from sklearn.linear_model import LogisticRegression\n",
    "from sklearn.metrics import accuracy_score"
   ]
  },
  {
   "cell_type": "code",
   "execution_count": null,
   "metadata": {},
   "outputs": [],
   "source": [
    "df = pd.read_csv('/datasets/users_behavior.csv')"
   ]
  },
  {
   "cell_type": "markdown",
   "metadata": {},
   "source": [
    "df.info()"
   ]
  },
  {
   "cell_type": "code",
   "execution_count": null,
   "metadata": {},
   "outputs": [],
   "source": [
    "print(df.sample(5))"
   ]
  },
  {
   "cell_type": "markdown",
   "metadata": {},
   "source": [
    "2  Separação dos dados"
   ]
  },
  {
   "cell_type": "markdown",
   "metadata": {},
   "source": [
    "Dividindo os dados de origem em um conjunto de treinamento, um conjunto de validação e um conjunto de teste."
   ]
  },
  {
   "cell_type": "code",
   "execution_count": null,
   "metadata": {},
   "outputs": [],
   "source": [
    "features = df.drop(['is_ultra'], axis=1)\n",
    "target = df['is_ultra'] \n",
    "\n",
    "# Dividindo os dados em conjunto de treinamento e teste (75% treinamento, 25% teste)\n",
    "features_train, features_test, target_train, target_test = train_test_split(\n",
    "    features, target, test_size=0.25, random_state=12345)\n",
    "\n",
    "# Dividindo os dados de treinamento em conjunto de treinamento e validação (75% treinamento, 25% validação)\n",
    "features_train, features_valid, target_train, target_valid = train_test_split(\n",
    "    features_train, target_train, test_size=0.25, random_state=12345)"
   ]
  },
  {
   "cell_type": "markdown",
   "metadata": {},
   "source": [
    "3  Modelos Testados"
   ]
  },
  {
   "cell_type": "markdown",
   "metadata": {},
   "source": [
    "3.1  Árvores de decisão¶"
   ]
  },
  {
   "cell_type": "code",
   "execution_count": null,
   "metadata": {},
   "outputs": [],
   "source": [
    "# Definindo os intervalos para max_depth\n",
    "for depth in range(1, 6):\n",
    "    # Criando um modelo com a profundidade dada\n",
    "    model = DecisionTreeClassifier(random_state=12345, max_depth=depth)\n",
    "    \n",
    "    # Treinando o modelo\n",
    "    model.fit(features_train, target_train)\n",
    "    \n",
    "    # Encontrando as previsões usando o conjunto de validação\n",
    "    predictions_valid = model.predict(features_valid)\n",
    "    \n",
    "    # Avaliando o modelo\n",
    "    accuracy = accuracy_score(target_valid, predictions_valid)\n",
    "    \n",
    "    # Imprimindo a acurácia para a profundidade atual\n",
    "    print(\"max_depth =\", depth, \":\", accuracy)"
   ]
  },
  {
   "cell_type": "markdown",
   "metadata": {},
   "source": [
    "A acurácia começa a diminuir após uma profundidade máxima de 3, indicando um possível sinal de sobreajuste."
   ]
  },
  {
   "cell_type": "markdown",
   "metadata": {},
   "source": [
    "3.2  Florestas Aleatórias"
   ]
  },
  {
   "cell_type": "code",
   "execution_count": null,
   "metadata": {},
   "outputs": [],
   "source": [
    "best_score = 0\n",
    "best_est = 0\n",
    "\n",
    "# Definindo os intervalos para n_estimators\n",
    "for est in range(1, 31): \n",
    "    # Criando um modelo com o número de árvores dado\n",
    "    model = RandomForestClassifier(random_state=12345, n_estimators=est)\n",
    "    \n",
    "    # Treinando o modelo\n",
    "    model.fit(features_train, target_train)\n",
    "    \n",
    "    # Calculando a acurácia no conjunto de validação\n",
    "    score = model.score(features_valid, target_valid)\n",
    "    \n",
    "    # Salvando o melhor resultado da acurácia no conjunto de validação\n",
    "    if score > best_score:\n",
    "        best_score = score\n",
    "        best_est = est\n",
    "\n",
    "print(\"Acurácia do melhor modelo no conjunto de validação (n_estimators = {}): {}\".format(best_est, best_score))"
   ]
  },
  {
   "cell_type": "markdown",
   "metadata": {},
   "source": [
    "O melhor modelo de Floresta Aleatória possui 20 estimadores e alcança uma acurácia de 0.83 no conjunto de validação. Isso sugere que o aumento no número de árvores na floresta levou a uma melhoria no desempenho do modelo."
   ]
  },
  {
   "cell_type": "markdown",
   "metadata": {},
   "source": [
    "3.3  Regressão Logística"
   ]
  },
  {
   "cell_type": "code",
   "execution_count": null,
   "metadata": {},
   "outputs": [],
   "source": [
    "# Inicializando o construtor de Regressão Logística com os parâmetros fornecidos\n",
    "model = LogisticRegression(random_state=12345, solver='liblinear')\n",
    "\n",
    "# Treinando o modelo com os dados de treinamento\n",
    "model.fit(features_train, target_train)\n",
    "\n",
    "# Calculando a acurácia no conjunto de treinamento\n",
    "score_train = model.score(features_train, target_train)\n",
    "\n",
    "# Calculando a acurácia no conjunto de validação\n",
    "score_valid = model.score(features_valid, target_valid)\n",
    "\n",
    "# Imprimindo a acurácia do modelo nos conjuntos de treinamento e validação\n",
    "print(\"Acurácia do modelo de regressão logística no conjunto de treinamento:\", score_train)\n",
    "print(\"Acurácia do modelo de regressão logística no conjunto de validação:\", score_valid)"
   ]
  },
  {
   "cell_type": "markdown",
   "metadata": {},
   "source": [
    "A acurácia no conjunto de validação é de 0.68. Isso indica que o modelo de Regressão Logística está generalizando bem para os dados de validação."
   ]
  },
  {
   "cell_type": "markdown",
   "metadata": {},
   "source": [
    "3.4  Qualidade do modelo escolhido"
   ]
  },
  {
   "cell_type": "markdown",
   "metadata": {},
   "source": [
    "Considerando os resultados, o modelo de Florestas Aleatórias com 20 estimadores parece ter o melhor desempenho geral, pois alcança a maior acurácia no conjunto de validação. Este então é o modelo escolhido para se verificar a qualidade, treinando o modelo com o conjunto de treinamento expandido para incluir os dados de validação antes de testá-lo no conjunto de teste."
   ]
  },
  {
   "cell_type": "code",
   "execution_count": null,
   "metadata": {},
   "outputs": [],
   "source": [
    "# Instanciando o modelo com o melhor número de estimadores\n",
    "best_model = RandomForestClassifier(random_state=54321, n_estimators=12)\n",
    "\n",
    "# Treinando o modelo com o conjunto de treinamento completo (features_train + features_valid) e target_train\n",
    "best_model.fit(features_train.append(features_valid), target_train.append(target_valid))\n",
    "\n",
    "# Fazendo previsões usando o conjunto de teste\n",
    "predictions_test = best_model.predict(features_test)\n",
    "\n",
    "# Calculando a acurácia no conjunto de teste\n",
    "accuracy_test = accuracy_score(target_test, predictions_test)\n",
    "\n",
    "# Imprimindo a acurácia do modelo no conjunto de teste\n",
    "print(\"Acurácia do modelo no conjunto de teste:\", accuracy_test)"
   ]
  },
  {
   "cell_type": "markdown",
   "metadata": {},
   "source": [
    "A acurácia do modelo no conjunto de validação foi de 0.83 com 20 estimadores, enquanto no conjunto de teste foi de 0.78. A ligeira queda na acurácia no conjunto de teste em relação ao conjunto de validação sugere que o modelo pode estar ligeiramente sobreajustado aos dados de treinamento e validação, mas ainda generaliza bem para dados não vistos."
   ]
  },
  {
   "cell_type": "markdown",
   "metadata": {},
   "source": [
    "3.5  Prova real"
   ]
  },
  {
   "cell_type": "markdown",
   "metadata": {},
   "source": [
    "Treinando o modelo apenas com os dados de treinamento originais antes de testá-lo no conjunto de teste."
   ]
  },
  {
   "cell_type": "code",
   "execution_count": null,
   "metadata": {},
   "outputs": [],
   "source": [
    "# Instanciando o melhor modelo com o número ideal de estimadores\n",
    "best_model = RandomForestClassifier(random_state=54321, n_estimators=20)\n",
    "\n",
    "# Treinando o modelo com todos os dados de treinamento disponíveis\n",
    "best_model.fit(features_train, target_train)\n",
    "\n",
    "# Fazendo previsões nos dados de teste\n",
    "predictions_test = best_model.predict(features_test)\n",
    "\n",
    "# Calculando a acurácia do modelo nos dados de teste\n",
    "accuracy_test = accuracy_score(target_test, predictions_test)\n",
    "\n",
    "# Imprimindo a acurácia do modelo nos dados de teste\n",
    "print(\"Acurácia do modelo no conjunto de teste:\", accuracy_test)"
   ]
  },
  {
   "cell_type": "markdown",
   "metadata": {},
   "source": [
    "A acurácia do modelo no conjunto de teste foi de aproximadamente 0.785, o que significa que o modelo classificou corretamente cerca de 78.5% das amostras no conjunto de teste. Isso sugere que o modelo tem uma boa capacidade de generalização para dados não vistos, pois a acurácia é alta e próxima à acurácia obtida durante a validação. Isso indica que o modelo não está sofrendo de sobreajuste aos dados de treinamento e validação e é capaz de realizar previsões precisas em novos dados. Em resumo, o modelo parece ser eficaz e estável, com um bom desempenho em dados de teste independentes."
   ]
  },
  {
   "cell_type": "markdown",
   "metadata": {},
   "source": [
    "4  Conclusões"
   ]
  },
  {
   "cell_type": "markdown",
   "metadata": {},
   "source": [
    "Após avaliar e comparar diferentes modelos de aprendizado de máquina, encontramos que o modelo de Florestas Aleatórias com 20 estimadores apresentou o melhor desempenho, com uma acurácia de aproximadamente 82.8% no conjunto de validação. Esse modelo foi então testado no conjunto de teste e obteve uma acurácia de aproximadamente 78.5%, indicando que ele é capaz de generalizar bem para novos dados.\n",
    "\n",
    "Com base no modelo selecionado, a Megaline pode utilizar as características comportamentais dos clientes para recomendar planos mais adequados (Smart ou Ultra). Isso pode ajudar a aumentar a satisfação do cliente e reduzir a rotatividade, uma vez que os clientes receberão planos que melhor atendam às suas necessidades individuais."
   ]
  }
 ],
 "metadata": {
  "language_info": {
   "name": "python"
  }
 },
 "nbformat": 4,
 "nbformat_minor": 2
}
